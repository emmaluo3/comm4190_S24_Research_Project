{
 "cells": [
  {
   "cell_type": "markdown",
   "id": "8ae321d1-00a9-408f-960a-612e6f7d22db",
   "metadata": {},
   "source": [
    "# Social Responsibility Theory - An Overview"
   ]
  },
  {
   "cell_type": "markdown",
   "id": "cd461918-4ff2-4989-87c2-5f8cc24937df",
   "metadata": {},
   "source": [
    "How often do you speak the truth? According to John Milton, in a fair debate, \"in a fair debate, good and truthful arguments will always win out over lies and deceit\". This, defined as the self-righting principle, is the basis of social responsibility theory, or a normative theory that substitutes media industry and public responsibility for total media freedom on the one hand and for external control on the other. The theory assumes that society wants to help others based on their own will; no one is forcing them to do so. Social responsibility theory claims to also foster and create productive communities, where the voice of the people is prioritized to promote social good. It gives responsibility to the public to regulate information and limits government intrusion.\n",
    "\n",
    "An example of social responsibility theory is news production practices. According to the theory news production mediums, such as journalism, should construct balanced stories where their main purpose is to inform rather than take a side. In the modern day, social responsibility can take form in online communities, where the accessibility of media platforms can give one a voice to speak out.\n",
    "\n",
    "However, the question of what the truth truly is may make the application and interpretation of the theory slightly difficult. Moreover, it is difficult to construct purely informational statements without accidentally taking a side. The theory can be overly optimistic on society's willingness to meet responsibility and take initiative.\n",
    "https://www.sciencedirect.com/science/article/pii/S0022103122000464#:~:text=Artificial%20intelligence%20(AI)%20is%20perceived,between%20human%20beings%20and%20AI."
   ]
  },
  {
   "cell_type": "markdown",
   "id": "f0080718-106b-4b5b-81ec-e89f9fb354f5",
   "metadata": {},
   "source": [
    "### Morality in AI"
   ]
  },
  {
   "cell_type": "markdown",
   "id": "2e88d9c9-1346-4fc5-a50f-6645c26c5b0c",
   "metadata": {},
   "source": [
    "According to research conducted by the Journal of Experimental Social Psychology, LLMs are already programmed to make utilitarian choices in moral dilemmas than human beings. With this, I'm interested in exploring LLMs' understanding of 1. Social responsibility theory in the modern world and 2. The decisions made by an LLM in respect to social responsibility theory but in respect to difficult situations or moral dilemmas. With this, I can get a sense of the depth of what extent LLMs understand social responsibility theory."
   ]
  },
  {
   "cell_type": "markdown",
   "id": "82bd660d-8a21-4a75-80ea-b88544b487f2",
   "metadata": {},
   "source": [
    "### AI's Understanding of Social Responsibility Theory"
   ]
  },
  {
   "cell_type": "markdown",
   "id": "397fe6a0-046d-4203-ae23-e64a1c3175d9",
   "metadata": {},
   "source": [
    "To begin with, I will evaluate GPT-4's understanding of Social Responsibility. I will also explore the depth of GPT-4's understanding by seeing how it explains social responsibility theory in different scenarios, such as in business and in the press. I will be checking for accuracy and will also be seeing if GPT-4 can bring in insightful points that the sources I provide may not have touched upon."
   ]
  },
  {
   "cell_type": "markdown",
   "id": "74b03d1b-c740-4e36-91b0-f2aed66daa5a",
   "metadata": {},
   "source": [
    "### What Would You Do?"
   ]
  },
  {
   "cell_type": "markdown",
   "id": "0c7ec365-4bc5-467b-bcfd-4fd8fe9517e8",
   "metadata": {},
   "source": [
    "Exploration of society's ability to take initiative for social good has been explored in the media. In this project, I will be taking scenarios from the American television series , *What Would You Do?* to prompt LLMs with situations to see if they would apply the social responsibility theory and \"speak out\" to do the right thing.\n",
    "However, shows such as *What Would You Do?* illustrate that social responsibility only realistically applies to an extent; sometimes speaking out may seem too difficult, or one might not take initiative to help society. With this, I will be comparing the true actions of participants in episodes of the show to the LLM's response to see not only how well it exhibits the theory, but how well it mimics the actions of humans. "
   ]
  },
  {
   "cell_type": "markdown",
   "id": "0f704393-c00a-417c-a879-f748c3941a8e",
   "metadata": {},
   "source": [
    "### Sources:"
   ]
  },
  {
   "cell_type": "code",
   "execution_count": null,
   "id": "23af34e9-160b-405a-947b-34cdb73657bf",
   "metadata": {},
   "outputs": [],
   "source": []
  }
 ],
 "metadata": {
  "citation-manager": {
   "items": {}
  },
  "kernelspec": {
   "display_name": "Python 3.8",
   "language": "python",
   "name": "python3"
  },
  "language_info": {
   "codemirror_mode": {
    "name": "ipython",
    "version": 3
   },
   "file_extension": ".py",
   "mimetype": "text/x-python",
   "name": "python",
   "nbconvert_exporter": "python",
   "pygments_lexer": "ipython3",
   "version": "3.8.8"
  }
 },
 "nbformat": 4,
 "nbformat_minor": 5
}
