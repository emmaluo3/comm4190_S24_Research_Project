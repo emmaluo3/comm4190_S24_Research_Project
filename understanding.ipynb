{
 "cells": [
  {
   "cell_type": "markdown",
   "id": "5a970ec7-4aeb-425e-a9f5-ddf177c34d8b",
   "metadata": {},
   "source": [
    "# AI's Understanding of Social Responsibility Theory"
   ]
  },
  {
   "cell_type": "markdown",
   "id": "26bf594a-a2fa-4e2c-b6ee-e3c44e0f6959",
   "metadata": {},
   "source": [
    "Before I begin exploring AI's application of social responsibility theory, I wanted to assess its understanding of it."
   ]
  },
  {
   "cell_type": "markdown",
   "id": "68edf272-3662-4065-842e-9217ef5e7c68",
   "metadata": {},
   "source": [
    "#### Me: Define social responsibility theory\n",
    "> GPT-4: The Social Responsibility Theory of the press and media is a concept that emphasizes the obligation of media professionals to act in ways that benefit society. Developed largely in the mid-20th century, particularly in the United States, this theory seeks to balance the freedom of speech and the press with the need for responsible journalism.\n",
    "Here are some key points about Social Responsibility Theory:\n",
    "Public Interest: Media should cater to the public interest and make a commitment to truth, accuracy, and fairness in reporting.\n",
    "Self-regulation: While operating free of government control, the media should still maintain ethical standards. This includes mechanisms like ombudsmen, press councils, and codes of ethics to hold media accountable.\n",
    "Pluralism: Media should reflect the diversity of the society it serves, representing various viewpoints and interests without bias.\n",
    "Public Service: The media acts as a watchdog, checking on government and other powers, thereby serving as a check on power.\n",
    "Commitment to Democracy: The media should facilitate informed debate and discussion among citizens to foster democratic participation.\n",
    "The Social Responsibility Theory serves as a framework to guide media practices while encouraging a commitment to serving the needs and interests of society as a whole."
   ]
  },
  {
   "cell_type": "markdown",
   "id": "1c4f80f8-a278-4fd7-860f-78e552d84a6c",
   "metadata": {},
   "source": [
    "GPT-4's definition is accurate but frames it as solely a media practice rather than expanding on how it can be used in interpersonal communication. Therefore, I prompted GPT-4 to explain this theory in an interpersonal context."
   ]
  },
  {
   "cell_type": "markdown",
   "id": "d71c2460-f42e-4fcb-972f-2e05b4682f00",
   "metadata": {},
   "source": [
    "#### Me: Can you explain this in an interpersonal context?\n",
    ">GPT-4: In an interpersonal context, social responsibility theory can be adapted to emphasize the ethical duties individuals have towards each other in their interactions and relationships. This perspective focuses on the responsibilities people have to act in ways that are beneficial to society at large, even within personal or one-on-one interactions. Here are some key elements of social responsibility in interpersonal relationships:\n",
    "1. **Respect and Fairness:** Individuals should treat each other with respect and fairness, recognizing each other's dignity and rights. This includes listening actively, acknowledging different viewpoints, and engaging in honest communication.\n",
    "2. **Accountability:** Each person is accountable for their actions towards others. This means taking responsibility for the consequences of one's actions and making amends when necessary.\n",
    "3. **Supportive Behavior:** Individuals should support each other's well-being, which includes offering help, encouragement, and empathy. This reinforces the notion of community and mutual aid.\n",
    "4. **Inclusivity:** Encouraging inclusivity by welcoming diversity and avoiding discriminatory behaviors. This involves recognizing and appreciating differences in backgrounds, perspectives, and experiences.\n",
    "5. **Ethical Conduct:** Acting ethically in all interactions, which means adhering to principles of integrity and honesty, and avoiding manipulative or deceitful behaviors.\n",
    "6. **Promoting the Common Good:** Actions and interactions should aim to contribute positively to the community and society. This can be through promoting values like justice, peace, and sustainability in everyday behavior.\n",
    "Applying social responsibility in interpersonal relationships encourages individuals to consider the broader impact of their personal interactions on the social fabric, promoting a more cooperative and harmonious society."
   ]
  },
  {
   "cell_type": "markdown",
   "id": "27ae03f7-e6eb-422d-a4c2-53eb52a4a1a2",
   "metadata": {},
   "source": [
    "This explanation seemed to be more vague and repetitive than the first one. I can infer that GPT-4 views social responsibility theory as a media or press practice. However, communication research often focuses on social responsibility theory through a lens of interpersonal communication (Baran and Davis).\n",
    "\n",
    "Additionally, I wanted to see if GPT-4 had limited input on other perspectives of social responsibility theory. Therefore, I asked it to explain the theory from a business perspective."
   ]
  },
  {
   "cell_type": "markdown",
   "id": "a1dc74f8-2e80-44fc-85a7-e156e6a1443b",
   "metadata": {},
   "source": [
    "#### Me: Can you explain this from a business perspective instead?\n",
    ">GPT-4: Certainly! In a business context, social responsibility theory refers to the idea that companies should operate in a manner that balances economic growth with the welfare of society. This concept, often encapsulated by the term \"corporate social responsibility\" (CSR), involves businesses taking responsibility for the social, economic, and environmental effects of their operations. Here are some key aspects of social responsibility from a business perspective:\n",
    "1. **Ethical Practices:** Businesses should commit to conducting their operations ethically, which includes honesty in advertising, fair treatment of employees, and integrity in financial reporting.\n",
    "2. **Environmental Stewardship:** Companies are expected to minimize their environmental impact. This includes practices like reducing pollution, managing waste responsibly, and adopting sustainable resources wherever possible.\n",
    "3. **Community Engagement:** Businesses should actively engage with the communities in which they operate. This can include supporting local initiatives, investing in community development projects, and engaging in philanthropic efforts.\n",
    "4. **Fair Treatment of Employees:** This involves providing fair wages, safe working conditions, and respecting the rights of workers. It also encompasses offering opportunities for employee growth and development.\n",
    "5. **Stakeholder Interests:** Businesses should consider the interests of all stakeholders, including shareholders, employees, customers, suppliers, and the broader community. This means making decisions that balance the needs and expectations of these groups rather than focusing solely on shareholders.\n",
    "6. **Transparency:** Maintaining transparency with stakeholders about business practices, such as sourcing, labor practices, and environmental impacts. This helps build trust and accountability.\n",
    "7. **Promoting Social Good:** Beyond minimizing negative impacts, many businesses also seek to actively promote social good, such as through initiatives that improve education, healthcare, and economic development.\n",
    ">Corporate social responsibility not only helps in building a good company reputation but also can lead to tangible business benefits, such as increased customer loyalty, better employee retention, and the potential to attract investors who are conscious of social and environmental impacts."
   ]
  },
  {
   "cell_type": "markdown",
   "id": "98ca34e6-fb38-4121-b5fb-952e32b42c0c",
   "metadata": {},
   "source": [
    "These aligns with the explanation of social responsibility theory on Investopedia, which defines social responsibility theory as 'an ethical focus for individuals and companies whereby they seek to take action and be accountable for practices that benefit society' (Ganti). It seems as if GPT-4 only lacks information on social responsibility theory from an interpersonal communication perspective (which is unfortunate, since that is what we are aiming to explore)."
   ]
  },
  {
   "cell_type": "code",
   "execution_count": null,
   "id": "dafd3f37-7f94-494c-820d-ca318b2bfc0b",
   "metadata": {},
   "outputs": [],
   "source": []
  }
 ],
 "metadata": {
  "citation-manager": {
   "items": {}
  },
  "kernelspec": {
   "display_name": "Python 3.11 (COMM4190)",
   "language": "python",
   "name": "comm4190"
  },
  "language_info": {
   "codemirror_mode": {
    "name": "ipython",
    "version": 3
   },
   "file_extension": ".py",
   "mimetype": "text/x-python",
   "name": "python",
   "nbconvert_exporter": "python",
   "pygments_lexer": "ipython3",
   "version": "3.11.7"
  }
 },
 "nbformat": 4,
 "nbformat_minor": 5
}
