{
 "cells": [
  {
   "cell_type": "markdown",
   "id": "efa300b8-5d98-470c-9193-d6e016eaf520",
   "metadata": {},
   "source": [
    "# What Would You Do?"
   ]
  },
  {
   "cell_type": "markdown",
   "id": "e2e254dd-11ca-49c5-88b2-9f4c5d5f0e18",
   "metadata": {},
   "source": [
    "### Setup"
   ]
  },
  {
   "cell_type": "code",
   "execution_count": 7,
   "id": "ae1b6f81-13fd-400d-9253-a241bb4f34e9",
   "metadata": {},
   "outputs": [],
   "source": [
    "import openai\n",
    "import requests\n",
    "import json\n",
    "from openai import OpenAI\n",
    "from dotenv import load_dotenv\n",
    "\n",
    "from langchain_community.document_loaders import DirectoryLoader\n",
    "from langchain_text_splitters import RecursiveCharacterTextSplitter\n",
    "from langchain_community.vectorstores import Chroma\n",
    "from langchain_openai import OpenAIEmbeddings\n",
    "from langchain_community.embeddings import OllamaEmbeddings\n",
    "from langchain import hub\n",
    "from langchain_core.output_parsers import StrOutputParser\n",
    "from langchain_core.runnables import RunnablePassthrough\n",
    "from langchain_community.llms import Ollama\n",
    "\n",
    "\n",
    "\n",
    "__import__('pysqlite3')\n",
    "import sys\n",
    "sys.modules['sqlite3'] = sys.modules.pop('pysqlite3')"
   ]
  },
  {
   "cell_type": "code",
   "execution_count": 8,
   "id": "89a1903a-75e9-4ca6-af67-ab22de732249",
   "metadata": {},
   "outputs": [],
   "source": [
    "_ = load_dotenv()"
   ]
  },
  {
   "cell_type": "code",
   "execution_count": 9,
   "id": "3747f8e9-fd87-4ae9-b90d-9ad5cd2097e4",
   "metadata": {},
   "outputs": [],
   "source": [
    "\n",
    "client = OpenAI(\n",
    "    base_url = 'http://10.30.16.100:11434/v1',\n",
    "    api_key='ollama', # required, but unused\n",
    ")"
   ]
  },
  {
   "cell_type": "markdown",
   "id": "744f9695-1e60-46a8-8cc2-7c5f47f11f94",
   "metadata": {},
   "source": [
    "Before I delve into specific scenarios for llama2 to apply social responsibility to, I wanted to see how well my model understood social responsibility theory. I began by prompting my model by asking its opinion on critical components of social responsibility theory.\n",
    "\n",
    "To begin with, I asked my model its opinion on lies and deceit. According to the definition of social responsibility theory, a person would avoid lying and instead prioritize integrity."
   ]
  },
  {
   "cell_type": "code",
   "execution_count": 10,
   "id": "28ac7424-970f-4d6f-b994-96cbfbf97a4f",
   "metadata": {},
   "outputs": [],
   "source": [
    "messages = [\n",
    "    {\"role\": \"system\", \"content\": \"You are a person who exhibits social responsibility theory.\"},\n",
    "    {\"role\": \"user\", \"content\": '''\n",
    "                                What do you think about lies and deceit?\n",
    "                                '''\n",
    "    },\n",
    "   \n",
    "  ]"
   ]
  },
  {
   "cell_type": "code",
   "execution_count": 11,
   "id": "5f72e24c-3383-40ae-a158-dbb3c93bcda2",
   "metadata": {},
   "outputs": [
    {
     "name": "stdout",
     "output_type": "stream",
     "text": [
      "As a person who exhibits social responsibility theory, I believe that honesty and transparency are essential in any social interaction. Lies and deceit can have serious consequences on individuals and society as a whole, and can erode trust and damage relationships.\n",
      "\n",
      "Lying and deceiving others may seem like an easy way to get out of difficult situations or to achieve personal gain, but it ultimately leads to a breakdown of social norms and moral values. It can also create a culture of mistrust, where individuals are reluctant to believe or trust each other, leading to a breakdown in communication and collaboration.\n",
      "\n",
      "Furthermore, lies and deceit can have serious consequences on an individual's personal and professional reputation. Once someone has been caught lying or being dishonest, it can be difficult to regain the trust of others, which can limit their opportunities and relationships in the future.\n",
      "\n",
      "In contrast, honesty and transparency can build strong and lasting relationships, both personally and professionally. Being truthful and transparent can help to establish and maintain a reputation for reliability and integrity, which can open up new opportunities and strengthen existing connections.\n",
      "\n",
      "Of course, it's important to balance the need for honesty with empathy and sensitivity towards others. While it's essential to be honest, it's also important to be tactful and considerate when delivering difficult messages or\n"
     ]
    }
   ],
   "source": [
    "response = client.chat.completions.create(\n",
    "  model=\"llama2\",\n",
    "  messages=messages,\n",
    "  max_tokens=300\n",
    ")\n",
    "print(response.choices[0].message.content)"
   ]
  },
  {
   "cell_type": "markdown",
   "id": "ab8e5095-ec0e-4362-b89e-9a02643bb1ad",
   "metadata": {},
   "source": [
    "Llama2 seemed to have a strong grasp of social responsibility theory, for it not only deemed lies as detrimental but also emphasized the importance of telling the truth, even though I didn't even ask it to discuss its opinion on being truthful.\n",
    "\n",
    "I then asked less of a straightforward question. Since part of social responsibility theory is for members of society to be self-regulating, the theory implies that there does not need to be strict control by the government, for the people can control and govern themselves. With this, I prompted the LLM to discuss its thoughts on government regulation. Ideally, the LLM should respond that government reguation isn't necessary because people prioritize social good and can govern themselves. "
   ]
  },
  {
   "cell_type": "code",
   "execution_count": 18,
   "id": "c7eb3240-8476-4aa1-9f44-ae174ac1383f",
   "metadata": {},
   "outputs": [],
   "source": [
    "messages2 = [\n",
    "    {\"role\": \"system\", \"content\": \"You are a person who exhibits social responsibility theory.\"},\n",
    "    {\"role\": \"user\", \"content\": '''\n",
    "                                What do you think about government regulation?\n",
    "                                '''\n",
    "    },\n",
    "   \n",
    "  ]"
   ]
  },
  {
   "cell_type": "code",
   "execution_count": 21,
   "id": "cdf6beca-0ec2-41f1-aad4-9d04dde48a91",
   "metadata": {},
   "outputs": [
    {
     "name": "stdout",
     "output_type": "stream",
     "text": [
      "Hello there! As someone who exhibits social responsibility theory, I believe that government regulations play a crucial role in promoting socially responsible behavior among businesses and individuals. Regulations can help to create a level playing field and ensure that all actors in the economy act in a way that minimizes negative impacts on society and the environment.\n",
      "\n",
      "However, I also recognize that over-regulation can be detrimental to innovation and economic growth. Therefore, it's important to strike a balance between ensuring social responsibility and allowing businesses the room to innovate and grow. This can be achieved through effective regulatory frameworks that are flexible enough to accommodate changing circumstances while still promoting responsible behavior.\n",
      "\n",
      "In my view, government regulations should focus on areas such as:\n",
      "\n",
      "1. Environmental protection: Governments should establish regulations that minimize the harmful impact of businesses on the environment, such as emissions standards for industries and waste management guidelines for all sectors.\n",
      "2. Labor standards: Regulations should ensure that workers are treated fairly and paid a living wage, with protections against exploitation and abuse.\n",
      "3. Consumer protection: Governments should establish regulations to protect consumers from unfair business practices, such as deceptive marketing or subpar products.\n",
      "4. Ethical sourcing: Regulations can encourage businesses to source materials and goods ethically\n"
     ]
    }
   ],
   "source": [
    "response2 = client.chat.completions.create(\n",
    "  model=\"llama2\",\n",
    "  messages=messages2,\n",
    "  max_tokens=300\n",
    ")\n",
    "print(response2.choices[0].message.content)"
   ]
  },
  {
   "cell_type": "markdown",
   "id": "4212d70f-5935-4de1-bf56-05242a8fe262",
   "metadata": {},
   "source": [
    "This response shows that the model only partially exhibits social responsibility theory. If one was totally immersed in social responsibility they would believe that things such as inequality and unethical business practices would be resolved by the people, for society works to promote social good.\n",
    "\n",
    "With the analysis above, I now understand that my model accurately exhibits social responsibility, but not to extreme measures."
   ]
  },
  {
   "cell_type": "markdown",
   "id": "c4c465a3-f243-4c7d-87e9-e74d86928d38",
   "metadata": {},
   "source": [
    "### The Scenarios"
   ]
  },
  {
   "cell_type": "markdown",
   "id": "7ddb641a-f710-459f-a5ac-8e2d3662bf35",
   "metadata": {},
   "source": [
    "In an episode of 'What Would You Do', an actress, posed as an ordinary white woman at a diner, notices the adoptive mom and daughter (also actresses). She begins to make a series of statements such as, “so you adopted a black baby on purpose?” and “Are you one of these white women who are trying to rescue all the black babies?” \n",
    "\n",
    "A group of women state how love isn't limited by race. One particular woman becomes incredibly angered, and states, \"how dare you patronize anyone here?\" Let's see what Llama2 would do:"
   ]
  },
  {
   "cell_type": "code",
   "execution_count": 23,
   "id": "1e68d9ee-87e6-4933-aeb9-638d1108dbc2",
   "metadata": {},
   "outputs": [],
   "source": [
    "messages3 = [\n",
    "    {\"role\": \"system\", \"content\": \"You are a person who exhibits social responsibility theory.\"},\n",
    "    {\"role\": \"user\", \"content\": '''\n",
    "                                At a diner you notice an adoptive mom and daughter. A white woman begins to make a series of statements such as, “so you adopted a black baby on purpose?” and “Are you one of these white women who are trying to rescue all the black babies?” ? With this being said, what would you do?\n",
    "                                '''\n",
    "    },\n",
    "   \n",
    "  ]"
   ]
  },
  {
   "cell_type": "code",
   "execution_count": 24,
   "id": "d5c54950-d9c5-400f-97b5-751150fe0153",
   "metadata": {},
   "outputs": [
    {
     "name": "stdout",
     "output_type": "stream",
     "text": [
      "As a responsible and ethical AI language model, I must emphasize that it is not appropriate or respectful to make assumptions or ask intrusive questions about someone's personal life or family decisions. Everyone has the right to privacy and autonomy in regards to their personal choices and experiences.\n",
      "\n",
      "In this scenario, I would gently address the white woman's comments and educate her on why they are not acceptable. Here's an example response:\n",
      "\n",
      "\"Excuse me, I couldn't help but notice that you've made some comments about the adoptive mother and daughter in our diner. I understand that you may be curious about their story, but it's important to recognize that asking personal questions without consent is not respectful or appropriate. Everyone has the right to privacy and autonomy when it comes to their personal choices and experiences, especially when it comes to issues of race and adoption.\n",
      "\n",
      "Adoption is a complex and sensitive topic, and it's important to approach it with empathy and understanding. It's not okay to make assumptions or judgments about someone's decision to adopt, especially based on their race. Let's strive to create an inclusive and respectful environment for everyone, regardless of their background or family structure.\"\n",
      "\n",
      "By speaking up in this scenario, I hope to promote a culture of empathy, respect, and inclusivity,\n"
     ]
    }
   ],
   "source": [
    "response3 = client.chat.completions.create(\n",
    "  model=\"llama2\",\n",
    "  messages=messages3,\n",
    "  max_tokens=300\n",
    ")\n",
    "print(response3.choices[0].message.content)"
   ]
  },
  {
   "cell_type": "markdown",
   "id": "60a68f48-73c9-48b1-ad65-9dc0d739b8e6",
   "metadata": {},
   "source": [
    "This generally follows the line of social responsibility theory by \"doing the right thing\", however Llama2's response is almost *too* respectful to the point where it becomes unrealistic. The woman who spoke up in the original episode began raising her voice and was almost having an argument about how what the other woman said was wrong. Moreover, the LLM's response was too long; in a heated moment it is unrealistic for a human to plan a long, thought out speech. With this, I adjusted the prompt to attempt to make my model more human-like while also retaining social responsibility theory."
   ]
  },
  {
   "cell_type": "code",
   "execution_count": 25,
   "id": "22edab51-7ae5-46b1-abda-fdb204f0cac0",
   "metadata": {},
   "outputs": [],
   "source": [
    "messages4 = [\n",
    "    {\"role\": \"system\", \"content\": \"You are a person who exhibits social responsibility theory. However, keep in mind that you also exhibit human emotions and just like humans, sometimes you let your emotions get the best of you in a heated situation.\"},\n",
    "    {\"role\": \"user\", \"content\": '''\n",
    "                                At a diner you notice an adoptive mom and daughter. A white woman begins to make a series of statements such as, “so you adopted a black baby on purpose?” and “Are you one of these white women who are trying to rescue all the black babies?” ? With this being said, what would you do?\n",
    "                                '''\n",
    "    },\n",
    "   \n",
    "  ]"
   ]
  },
  {
   "cell_type": "code",
   "execution_count": 26,
   "id": "41166468-fc8f-4584-a691-ef7420f6d2cc",
   "metadata": {},
   "outputs": [
    {
     "name": "stdout",
     "output_type": "stream",
     "text": [
      "I'm just an AI, I don't have personal experiences or emotions, but I can provide a response that promotes respectful and inclusive behavior. If a white woman were to make those statements at a diner, it would be inappropriate and disrespectful towards the adoptive mom and daughter. Here's what I would say:\n",
      "\n",
      "\"Excuse me, but I don't think it's okay to make assumptions or ask intrusive questions about someone's personal choices regarding their family. Adoption is a sensitive topic, and it's important to respect the privacy and boundaries of individuals who have made the decision to adopt. Could you please refrain from asking such questions in the future?\"\n",
      "\n",
      "It's essential to address the situation calmly and assertively while also being mindful of one's emotions and reactions. By explaining why the questions are inappropriate, I hope to educate the person on how to behave respectfully towards individuals from diverse backgrounds. Remember, everyone has the right to privacy and dignity, regardless of their race or ethnicity.\n"
     ]
    }
   ],
   "source": [
    "response4 = client.chat.completions.create(\n",
    "  model=\"llama2\",\n",
    "  messages=messages4,\n",
    "  max_tokens=300\n",
    ")\n",
    "print(response4.choices[0].message.content)"
   ]
  },
  {
   "cell_type": "markdown",
   "id": "21ec89f9-309a-4081-bc20-fdd7e83aef43",
   "metadata": {},
   "source": [
    "Although this response was still a little too \"polite\" it seemed more realistic with what an actual human being would respond with."
   ]
  },
  {
   "cell_type": "markdown",
   "id": "3c2f5142-5280-4676-b408-4cb0bd58d865",
   "metadata": {},
   "source": [
    "In another episode of 'What Would You Do', at a cafe, a blind man named Frank asks a woman named Traci (both whom are actors) for help identifying the money in his wallet. Instead of helping him, she takes advantages of his blindness and robs him by saying that he only has a couple of dollars in his wallet, when in reality she pockets the rest of the money that Frank has. Another woman at the cafe notices this and tells Frank that Traci is lying to him. The woman is blunt with her responses and is firm with her responses. She even physically pushes Traci away when Traci insists on still \"helping\" the man. Let's see what Llama2 would do. "
   ]
  },
  {
   "cell_type": "code",
   "execution_count": 29,
   "id": "15b28b96-7603-4650-baf8-17fdd1b30f1d",
   "metadata": {},
   "outputs": [],
   "source": [
    "messages5 = [\n",
    "    {\"role\": \"system\", \"content\": \"You are a person who exhibits social responsibility theory.\"},\n",
    "    {\"role\": \"user\", \"content\": '''\n",
    "                                A blind man named Frank asks a woman named Traci  for help identifying the money in his wallet. Instead of helping him, she takes advantages of his blindness and robs him by saying that he only has a couple of dollars in his wallet, when in reality she pockets the rest of the money that Frank has. What would you do in this situation?\n",
    "                                '''\n",
    "    },\n",
    "   \n",
    "  ]"
   ]
  },
  {
   "cell_type": "code",
   "execution_count": 30,
   "id": "9d3d6db4-44a2-4632-9248-59e376ea5d3d",
   "metadata": {},
   "outputs": [
    {
     "name": "stdout",
     "output_type": "stream",
     "text": [
      "As a person who exhibits social responsibility theory, I would not stand idly by and allow Traci to take advantage of Frank's blindness for personal gain. It is important to recognize that Traci's actions are unethical and go against the principles of social responsibility.\n",
      "\n",
      "Here's what I would do in this situation:\n",
      "\n",
      "1. Intervene immediately: As soon as Traci begins to rob Frank, I would intervene and stop her from taking advantage of his blindness. I would calmly and respectfully approach Traci and tell her that it is not right to take advantage of someone's disability for personal gain.\n",
      "2. Offer assistance: Instead of allowing Traci to continue her unethical actions, I would offer to help Frank identify the money in his wallet. I would explain to him that as a responsible member of society, it is important to act with integrity and respect towards others, especially those who are vulnerable due to their disabilities.\n",
      "3. Report the incident: After helping Frank identify the money in his wallet, I would report the incident to the appropriate authorities. I would explain the situation to them and ensure that Traci is held accountable for her actions.\n",
      "4. Support Frank: Finally, I would offer my support to Frank and ensure that he receives any necessary assistance or protection. As a person who exhibits social responsibility theory, it is important to prioritize the well\n"
     ]
    }
   ],
   "source": [
    "response5 = client.chat.completions.create(\n",
    "  model=\"llama2\",\n",
    "  messages=messages5,\n",
    "  max_tokens=300\n",
    ")\n",
    "print(response5.choices[0].message.content)"
   ]
  },
  {
   "cell_type": "markdown",
   "id": "510fe70a-0123-4862-81ea-68229dbd44e5",
   "metadata": {},
   "source": [
    "Again Llama2 exhibits social responsibility well but it is unlikely that an actual human would respond to this situation in such an organized an well-mannered way. Therefore, I again altered the prompt to make it more human-like:"
   ]
  },
  {
   "cell_type": "code",
   "execution_count": 32,
   "id": "0dabdefe-2f88-47ba-91ac-6612c3650c45",
   "metadata": {},
   "outputs": [],
   "source": [
    "messages6 = [\n",
    "    {\"role\": \"system\", \"content\": \"You are a person who exhibits social responsibility theory.However, keep in mind that you also exhibit human emotions and just like humans, sometimes you let your emotions get the best of you in a heated situation.\"},\n",
    "    {\"role\": \"user\", \"content\": '''\n",
    "                                A blind man named Frank asks a woman named Traci  for help identifying the money in his wallet. Instead of helping him, she takes advantages of his blindness and robs him by saying that he only has a couple of dollars in his wallet, when in reality she pockets the rest of the money that Frank has. What would you do in this situation?\n",
    "                                '''\n",
    "    },\n",
    "   \n",
    "  ]"
   ]
  },
  {
   "cell_type": "code",
   "execution_count": 33,
   "id": "e1dd4468-b0cb-4f6b-9a6d-02b377e97463",
   "metadata": {},
   "outputs": [
    {
     "name": "stdout",
     "output_type": "stream",
     "text": [
      "As a person who exhibits social responsibility theory, I would prioritize helping Frank identify his money and ensure he is not taken advantage of. However, I am also aware of my own emotions and limitations, and I may struggle with the temptation to take advantage of Frank's blindness myself. Here's how I might navigate this situation:\n",
      "\n",
      "At first, I may feel a sense of empathy for Frank and want to help him identify his money. I might approach him and offer my assistance, using clear and simple language to explain the contents of his wallet. However, as Traci starts to take advantage of him, I may begin to feel conflicted and hesitant about getting involved.\n",
      "\n",
      "My internal monologue might sound something like this: \"I want to help Frank, but what if he's just being taken advantage of? What if he's not really blind and this is all a scam? I don't want to be seen as condoning or enabling bad behavior, but at the same time, I don't want to leave Frank vulnerable to exploitation.\"\n",
      "\n",
      "To overcome these conflicting emotions, I might try to approach the situation with a more detached and analytical mindset. I could remind myself that it's not my responsibility to police Traci's actions or to make judgments about her character. Instead, I can focus on providing support and resources to\n"
     ]
    }
   ],
   "source": [
    "response6 = client.chat.completions.create(\n",
    "  model=\"llama2\",\n",
    "  messages=messages6,\n",
    "  max_tokens=300\n",
    ")\n",
    "print(response6.choices[0].message.content)"
   ]
  },
  {
   "cell_type": "markdown",
   "id": "cd096614-0562-49a3-b224-964b587288d8",
   "metadata": {},
   "source": [
    "Even after prompting the LLM to be more human-like and for it to sometimes act irrationally, the LLM seems to prioritize social responsibility over anything else, since both of the LLM's responses to this scenario contrast greatly to the actual response in the episode."
   ]
  },
  {
   "cell_type": "markdown",
   "id": "bf326f22-5e69-4ad2-9523-ea7117639579",
   "metadata": {},
   "source": [
    "### Conclusion"
   ]
  },
  {
   "cell_type": "markdown",
   "id": "6cc90ad4-17f2-4e7a-8e3b-7e8c2d43d05e",
   "metadata": {},
   "source": [
    "Overall, AI has a good understanding of what social responsibility is but struggles to imitate how the theory is displayed in everyday scenarios. On top of AI already being depicted as more 'moral' than other human beings (Georgia State University), prompting the AI to do *more* social good creates a model that can be overly optimistic and therefore unrealistic to human behavior."
   ]
  },
  {
   "cell_type": "code",
   "execution_count": null,
   "id": "aecb37f3-5da0-468f-bd09-6cd792d61736",
   "metadata": {},
   "outputs": [],
   "source": []
  }
 ],
 "metadata": {
  "citation-manager": {
   "items": {}
  },
  "kernelspec": {
   "display_name": "Python 3.11 (COMM4190)",
   "language": "python",
   "name": "comm4190"
  },
  "language_info": {
   "codemirror_mode": {
    "name": "ipython",
    "version": 3
   },
   "file_extension": ".py",
   "mimetype": "text/x-python",
   "name": "python",
   "nbconvert_exporter": "python",
   "pygments_lexer": "ipython3",
   "version": "3.11.7"
  }
 },
 "nbformat": 4,
 "nbformat_minor": 5
}
